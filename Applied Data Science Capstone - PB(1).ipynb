{
 "cells": [
  {
   "cell_type": "markdown",
   "metadata": {},
   "source": [
    "# Final \n"
   ]
  },
  {
   "cell_type": "code",
   "execution_count": null,
   "metadata": {},
   "outputs": [],
   "source": [
    "# Imports to load the utilities needed to parse and create the data frame \n",
    "import xml.etree.ElementTree as ET\n",
    "import requests\n",
    "import pandas as pd\n",
    "\n",
    "import numpy as np\n",
    "import matplotlib.cm as cm\n",
    "import matplotlib.colors as colors\n",
    "\n",
    "# Import Folium \n",
    "import folium\n",
    "from folium import plugins\n",
    "from folium.plugins import HeatMap"
   ]
  },
  {
   "cell_type": "code",
   "execution_count": null,
   "metadata": {},
   "outputs": [],
   "source": [
    "!pip3 install geojson\n",
    "from geojson import Point\n",
    "\n",
    "#http://geopandas.org/\n",
    "!pip3 install git+git://github.com/geopandas/geopandas.git"
   ]
  },
  {
   "cell_type": "code",
   "execution_count": null,
   "metadata": {},
   "outputs": [],
   "source": [
    "# Files used in the analysis\n",
    "file_boston_geo = 'boston/Boston_Neighborhoods.geojson'\n",
    "file_boston_fatal = 'boston/fatality_open_data.csv'\n",
    "file_boston_crash = 'boston/crash_open_data.csv'"
   ]
  },
  {
   "cell_type": "code",
   "execution_count": null,
   "metadata": {},
   "outputs": [],
   "source": [
    "# Boston Lat / Longitude from https://www.latlong.net/place/boston-ma-usa-18552.html\n",
    "# altered to fit the maximal part at the 12 zoom level on the screne\n",
    "boston = [ 42.3200, -71.0589]"
   ]
  },
  {
   "cell_type": "code",
   "execution_count": null,
   "metadata": {},
   "outputs": [],
   "source": [
    "map_boston = folium.Map(location=boston, zoom_start=12)\n",
    "folium.GeoJson(file_boston_geo, name='geojson').add_to(map_boston)\n",
    "map_boston"
   ]
  },
  {
   "cell_type": "markdown",
   "metadata": {},
   "source": [
    "### Retrieve the List of Neighborhoods and Count"
   ]
  },
  {
   "cell_type": "code",
   "execution_count": null,
   "metadata": {},
   "outputs": [],
   "source": [
    "from pandas.io.json import json_normalize\n",
    "df_neighborhood = pd.read_json(file_boston_geo)\n",
    "df_neighborhood_norm = json_normalize(df_neighborhood['features'])\n",
    "df_neighborhood_norm['properties.Name'].unique()"
   ]
  },
  {
   "cell_type": "code",
   "execution_count": null,
   "metadata": {},
   "outputs": [],
   "source": [
    "df_neighborhood_norm['properties.Name'].unique().size"
   ]
  },
  {
   "cell_type": "code",
   "execution_count": null,
   "metadata": {},
   "outputs": [],
   "source": [
    "df_fatal = pd.read_csv(file_boston_fatal)\n",
    "df_fatal['mode_type'].value_counts()"
   ]
  },
  {
   "cell_type": "code",
   "execution_count": null,
   "metadata": {},
   "outputs": [],
   "source": [
    "df_fatal['location_type'].value_counts()"
   ]
  },
  {
   "cell_type": "code",
   "execution_count": null,
   "metadata": {},
   "outputs": [],
   "source": [
    "df_crash = pd.read_csv(file_boston_crash)\n",
    "df_crash['dispatch_ts'].value_counts()\n",
    "df_crash.count()"
   ]
  },
  {
   "cell_type": "code",
   "execution_count": null,
   "metadata": {},
   "outputs": [],
   "source": [
    "for lat, lng, mode in zip(df_fatal['lat'], df_fatal['long'], df_fatal['mode_type']):\n",
    "    label = '{}'.format(mode)\n",
    "    label = folium.Popup(label, parse_html=True)\n",
    "    folium.CircleMarker(\n",
    "        [lat, lng],\n",
    "        radius=5,\n",
    "        popup=label,\n",
    "        color='red',\n",
    "        fill=True,\n",
    "        fill_color='#3186cc',\n",
    "        fill_opacity=0.7).add_to(map_boston)  \n",
    "\n",
    "for lat, lng, mode in zip(df_crash['lat'], df_crash['long'], df_crash['mode_type']):\n",
    "    #print(lat, lng, mode)\n",
    "    label = '{}'.format(mode)\n",
    "    label = folium.Popup(label, parse_html=True)\n",
    "    \n",
    "    if not numpy.isnan(lat):\n",
    "        folium.CircleMarker(\n",
    "            [lat, lng],\n",
    "            radius=5,\n",
    "            popup=label,\n",
    "            color='orange',\n",
    "            fill=True,\n",
    "            fill_color='#3186cc',\n",
    "            fill_opacity=0.7).add_to(map_boston)      \n",
    "    \n",
    "#map_boston = folium.Map(location=boston, zoom_start=12)\n",
    "#folium.GeoJson(file_boston_geo, name='geojson').add_to(map_boston)\n",
    "map_boston"
   ]
  },
  {
   "cell_type": "code",
   "execution_count": null,
   "metadata": {},
   "outputs": [],
   "source": [
    "for lat, lng, mode in zip(df_fatal['lat'], df_fatal['long'], df_fatal['mode_type']):\n",
    "    label = '{}'.format(mode)\n",
    "    label = folium.Popup(label, parse_html=True)\n",
    "    folium.CircleMarker(\n",
    "        [lat, lng],\n",
    "        radius=5,\n",
    "        popup=label,\n",
    "        color='red',\n",
    "        fill=True,\n",
    "        fill_color='#3186cc',\n",
    "        fill_opacity=0.7).add_to(map_boston)  \n",
    "\n",
    "for lat, lng, mode in zip(df_crash['lat'], df_crash['long'], df_crash['mode_type']):\n",
    "    #print(lat, lng, mode)\n",
    "    label = '{}'.format(mode)\n",
    "    label = folium.Popup(label, parse_html=True)\n",
    "    \n",
    "    if not numpy.isnan(lat):\n",
    "        folium.CircleMarker(\n",
    "            [lat, lng],\n",
    "            radius=5,\n",
    "            popup=label,\n",
    "            color='orange',\n",
    "            fill=True,\n",
    "            fill_color='#3186cc',\n",
    "            fill_opacity=0.7).add_to(map_boston)      \n",
    "    \n",
    "#map_boston = folium.Map(location=boston, zoom_start=12)\n",
    "#folium.GeoJson(file_boston_geo, name='geojson').add_to(map_boston)\n",
    "map_boston"
   ]
  },
  {
   "cell_type": "code",
   "execution_count": null,
   "metadata": {},
   "outputs": [],
   "source": [
    "df_crash_bike = df_crash.loc[df_crash['mode_type'] == 'bike']\n",
    "\n",
    "map_bostonx = folium.Map(location=boston, zoom_start=12)\n",
    "folium.GeoJson(file_boston_geo, name='geojson').add_to(map_bostonx)\n",
    "map_bostonx\n",
    "\n",
    "for lat, lng, mode in zip(df_crash_bike['lat'], df_crash_bike['long'], df_crash_bike['mode_type']):\n",
    "    #print(lat, lng, mode)\n",
    "    label = '{}'.format(mode)\n",
    "    label = folium.Popup(label, parse_html=True)\n",
    "    \n",
    "    if not numpy.isnan(lat):\n",
    "        folium.CircleMarker(\n",
    "            [lat, lng],\n",
    "            radius=5,\n",
    "            popup=label,\n",
    "            color='orange',\n",
    "            fill=True,\n",
    "            fill_color='#3186cc',\n",
    "            fill_opacity=0.7).add_to(map_bostonx)      \n",
    "    \n",
    "map_bostonx"
   ]
  },
  {
   "cell_type": "code",
   "execution_count": null,
   "metadata": {},
   "outputs": [],
   "source": [
    "\n",
    "df_crash_bike = df_crash.loc[df_crash['mode_type'] == 'bike']\n",
    "\n",
    "map_bostonxy = folium.Map(location=boston, zoom_start=12)\n",
    "folium.GeoJson(file_boston_geo, name='geojson').add_to(map_bostonx)\n",
    "map_bostonxy\n",
    "\n",
    "for lat, lng, mode in zip(df_crash_bike['lat'], df_crash_bike['long'], df_crash_bike['mode_type']):\n",
    "    #print(lat, lng, mode)\n",
    "    label = '{}'.format(mode)\n",
    "    label = folium.Popup(label, parse_html=True)\n",
    "    \n",
    "    if not numpy.isnan(lat):\n",
    "        folium.CircleMarker(\n",
    "            [lat, lng],\n",
    "            radius=5,\n",
    "            popup=label,\n",
    "            color='orange',\n",
    "            fill=True,\n",
    "            fill_color='#3186cc',\n",
    "            fill_opacity=0.7).add_to(map_bostonxy)      \n",
    "    \n",
    "map_bostonxy"
   ]
  },
  {
   "cell_type": "code",
   "execution_count": null,
   "metadata": {},
   "outputs": [],
   "source": [
    "# Calculate the number of mis-identified locations and points\n",
    "# and numpy.isnan[df_crash['lat']\n",
    "df_crash_bikex = df_crash.loc[df_crash['mode_type'] == 'bike' ]\n",
    "print(df_crash_bikex['lat'].value_counts())"
   ]
  },
  {
   "cell_type": "code",
   "execution_count": null,
   "metadata": {},
   "outputs": [],
   "source": [
    "df_crash_bikex = df_crash.loc[df_crash['mode_type'] == 'bike' ]\n",
    "df_crash_bikex['bad'] = df_crash_bikex.isnull().sum(axis = 1)\n",
    "df_crash_bikex['bad'].value_counts()"
   ]
  },
  {
   "cell_type": "code",
   "execution_count": null,
   "metadata": {},
   "outputs": [],
   "source": [
    "import geopandas \n",
    "df_geo = geopandas.read_file(file_boston_geo)\n",
    "df_geo.crs\n",
    "df_geo.head(30)"
   ]
  },
  {
   "cell_type": "code",
   "execution_count": null,
   "metadata": {},
   "outputs": [],
   "source": [
    "# figures out the neighborhoods for each coordinate. \n",
    "from shapely.geometry import Point\n",
    "\n",
    "# Sanity check - output should say Dorchester True\n",
    "# ordering is [lat, long]\n",
    "incident = Point(-71.0589, 42.3200 )\n",
    "\n",
    "for name, geo in zip(df_geo['Name'], df_geo['geometry']):\n",
    "      if(geo.contains(incident)): \n",
    "            print (name , geo.contains(incident))\n"
   ]
  },
  {
   "cell_type": "code",
   "execution_count": null,
   "metadata": {},
   "outputs": [],
   "source": [
    "# Adds new column to be populated in next step\n",
    "df_crash_bike = df_crash.loc[df_crash['mode_type'] == 'bike']\n",
    "df_crash_bike['neighborhood'] = numpy.nan"
   ]
  },
  {
   "cell_type": "code",
   "execution_count": null,
   "metadata": {},
   "outputs": [],
   "source": [
    "# Creates a new column and then check each incident's column     \n",
    "for name, geo in zip(df_geo['Name'], df_geo['geometry']):\n",
    "    col_name = name\n",
    "    for index, row in df_crash_bike.iterrows():\n",
    "        lat_inc = row['lat']\n",
    "        long_inc = row['long']\n",
    "        \n",
    "        incident = Point(long_inc, lat_inc)\n",
    "        if(geo.contains(incident)): \n",
    "            df_crash_bike.loc[index,'neighborhood'] = name"
   ]
  },
  {
   "cell_type": "code",
   "execution_count": null,
   "metadata": {},
   "outputs": [],
   "source": [
    "#### show count \n",
    "df_crash_bike['neighborhood'].value_counts()"
   ]
  },
  {
   "cell_type": "code",
   "execution_count": null,
   "metadata": {
    "scrolled": false
   },
   "outputs": [],
   "source": [
    "# Calculate the number of crashes involving bikes and in which neighborhood these occured. \n",
    "df_value_counts = df_crash_bike['neighborhood'].value_counts(sort=True)\n",
    "df_value_counts = df_value_counts.reset_index()\n",
    "df_value_counts.columns = ['neighborhood', 'count']\n",
    "df_value_counts.head(30)"
   ]
  },
  {
   "cell_type": "code",
   "execution_count": null,
   "metadata": {},
   "outputs": [],
   "source": [
    "names_arr = df_neighborhood_norm['properties.Name'].unique()\n",
    "df_names_arr = pd.DataFrame(names_arr)\n",
    "#df_names_arr = df_names_arr.reset_index()\n",
    "\n",
    "df_names_arr['count']=0\n",
    "df_names_arr.columns = ['neighborhood', 'count']\n",
    "df_names_arr\n",
    "\n",
    "df_combo = pd.merge(df_names_arr,\n",
    "                 df_value_counts[['neighborhood', 'count']],\n",
    "                 on='neighborhood', \n",
    "                 how='left')\n",
    "\n",
    "df_combo['count_y'].fillna(0, inplace=True)\n",
    "df_combo"
   ]
  },
  {
   "cell_type": "code",
   "execution_count": null,
   "metadata": {},
   "outputs": [],
   "source": [
    "# Display a choropleth image showing the inesnity of the data\n",
    "# Link to Color Scheme - https://github.com/python-visualization/folium/blob/v0.2.0/folium/utilities.py#L104\n",
    "map_boston_in = folium.Map(location=boston, zoom_start=12)\n",
    "map_boston_in.choropleth(geo_data=file_boston_geo, data=df_combo,\n",
    "             columns=['neighborhood', 'count_y'],\n",
    "             key_on='feature.properties.Name',\n",
    "             threshold_scale=[0,1, 10, 25, 50, 200],\n",
    "             fill_color='Accent')\n",
    "\n",
    "map_boston_in\n"
   ]
  },
  {
   "cell_type": "markdown",
   "metadata": {},
   "source": [
    "# Setup DBScan to see the intense segments"
   ]
  },
  {
   "cell_type": "code",
   "execution_count": null,
   "metadata": {},
   "outputs": [],
   "source": [
    "from sklearn.cluster import DBSCAN\n",
    "from sklearn import metrics\n",
    "from sklearn.datasets.samples_generator import make_blobs\n",
    "from sklearn.preprocessing import StandardScaler"
   ]
  },
  {
   "cell_type": "code",
   "execution_count": null,
   "metadata": {},
   "outputs": [],
   "source": [
    "df_cluster = df_crash_bikex.drop('dispatch_ts',1)\n",
    "df_cluster = df_cluster.drop('mode_type',1)\n",
    "df_cluster = df_cluster.drop('location_type',1)\n",
    "df_cluster = df_cluster.drop('street',1)\n",
    "df_cluster = df_cluster.drop('xstreet1',1)\n",
    "df_cluster = df_cluster.drop('xstreet2',1)\n",
    "df_cluster = df_cluster.drop('x_cord',1)\n",
    "df_cluster = df_cluster.drop('y_cord',1)\n",
    "df_cluster = df_cluster.drop('bad',1)\n",
    "df_cluster.head()"
   ]
  },
  {
   "cell_type": "code",
   "execution_count": null,
   "metadata": {},
   "outputs": [],
   "source": [
    "from sklearn.cluster import KMeans"
   ]
  },
  {
   "cell_type": "code",
   "execution_count": null,
   "metadata": {},
   "outputs": [],
   "source": [
    "# cluster numbers\n",
    "kclusters = 50\n",
    "\n",
    "# k-means clustering\n",
    "kmeans = KMeans(n_clusters=kclusters, random_state=0).fit(df_cluster)\n",
    "\n",
    "# Size of the Shape (results 0 to the top of the kclusters)\n",
    "kmeans.labels_[0:1713] "
   ]
  },
  {
   "cell_type": "code",
   "execution_count": null,
   "metadata": {},
   "outputs": [],
   "source": [
    "# Insert the Cluster Label\n",
    "df_resx3 = df_crash_bikex\n",
    "df_resx3.insert(0, 'Cluster Label3', kmeans.labels_)\n",
    "df_resx3"
   ]
  },
  {
   "cell_type": "code",
   "execution_count": null,
   "metadata": {},
   "outputs": [],
   "source": [
    "# Creates a new column and then check each incident's column     \n",
    "for name, geo in zip(df_geo['Name'], df_geo['geometry']):\n",
    "    col_name = name\n",
    "    for index, row in df_resx.iterrows():\n",
    "        lat_inc = row['lat']\n",
    "        long_inc = row['long']\n",
    "        \n",
    "        incident = Point(long_inc, lat_inc)\n",
    "        if(geo.contains(incident)): \n",
    "            df_resx3.loc[index,'neighborhood'] = name"
   ]
  },
  {
   "cell_type": "code",
   "execution_count": null,
   "metadata": {},
   "outputs": [],
   "source": [
    "df_resx.head()"
   ]
  },
  {
   "cell_type": "code",
   "execution_count": null,
   "metadata": {},
   "outputs": [],
   "source": [
    "# df_resx\n",
    "map_clusters = folium.Map(location=boston, zoom_start=12)\n",
    "\n",
    "# set color scheme for the clusters\n",
    "x = np.arange(kclusters)\n",
    "ys = [i + x + (i*x)**2 for i in range(kclusters)]\n",
    "colors_array = cm.rainbow(np.linspace(0, 1, len(ys)))\n",
    "rainbow = [colors.rgb2hex(i) for i in colors_array]\n",
    "\n",
    "# add markers to the map\n",
    "markers_colors = []\n",
    "for lat, lon, poi, cluster in zip(df_resx3['lat'], df_resx3['long'], df_resx3['neighborhood'], df_resx3['Cluster Label3']):\n",
    "    label = folium.Popup(str(poi) + ' Cluster ' + str(cluster), parse_html=True)\n",
    "    folium.CircleMarker(\n",
    "        [lat, lon],\n",
    "        radius=5,\n",
    "        popup=label,\n",
    "        color=rainbow[cluster-1],\n",
    "        fill=True,\n",
    "        fill_color=rainbow[cluster-1],\n",
    "        fill_opacity=0.7).add_to(map_clusters)\n",
    "       \n",
    "map_clusters"
   ]
  },
  {
   "cell_type": "code",
   "execution_count": null,
   "metadata": {},
   "outputs": [],
   "source": []
  }
 ],
 "metadata": {
  "kernelspec": {
   "display_name": "Python 3",
   "language": "python",
   "name": "python3"
  },
  "language_info": {
   "codemirror_mode": {
    "name": "ipython",
    "version": 3
   },
   "file_extension": ".py",
   "mimetype": "text/x-python",
   "name": "python",
   "nbconvert_exporter": "python",
   "pygments_lexer": "ipython3",
   "version": "3.7.0"
  }
 },
 "nbformat": 4,
 "nbformat_minor": 2
}
